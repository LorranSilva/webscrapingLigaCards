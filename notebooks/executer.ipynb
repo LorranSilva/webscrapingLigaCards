{
 "cells": [
  {
   "attachments": {},
   "cell_type": "markdown",
   "metadata": {},
   "source": [
    "<h3>Parte 1</h3><br>\n",
    "<p>Fazendo scrapy dos dados e salvando em json.</p>"
   ]
  },
  {
   "cell_type": "code",
   "execution_count": 2,
   "metadata": {},
   "outputs": [
    {
     "name": "stdout",
     "output_type": "stream",
     "text": [
      "Comando 'scrapy crawl ligamagic -O resultmtg.json' executado com sucesso!\n",
      "Comando 'scrapy crawl ligapoke -O resultpoke.json' executado com sucesso!\n",
      "Comando 'scrapy crawl ligaygo -O resultygo.json' executado com sucesso!\n"
     ]
    }
   ],
   "source": [
    "import os\n",
    "import subprocess\n",
    "\n",
    "def execute_commands(comando):\n",
    "    retorno = subprocess.run(comando, stdout=subprocess.PIPE, stderr=subprocess.PIPE, shell=True)\n",
    "\n",
    "    if retorno.returncode == 0:\n",
    "        print(f\"Comando '{comando}' executado com sucesso!\")\n",
    "    else:\n",
    "        print(f\"Erro na execução de: {comando}\")\n",
    "        print(retorno.stderr.decode())\n",
    "\n",
    "# acessar diretorio do projeto\n",
    "os.chdir(\"..\\scrapcards\")\n",
    "\n",
    "# comandos para executar respectivos spiders\n",
    "comandos = [\"scrapy crawl ligamagic -O resultmtg.json\", \"scrapy crawl ligapoke -O resultpoke.json\", \"scrapy crawl ligaygo -O resultygo.json\"]\n",
    "\n",
    "for comando in comandos:\n",
    "    execute_commands(comando)   \n"
   ]
  },
  {
   "attachments": {},
   "cell_type": "markdown",
   "metadata": {},
   "source": [
    "<h3>Parte 2</h3><br>\n",
    "<p>Preparando os dados</p>"
   ]
  }
 ],
 "metadata": {
  "kernelspec": {
   "display_name": "ligaCard",
   "language": "python",
   "name": "python3"
  },
  "language_info": {
   "codemirror_mode": {
    "name": "ipython",
    "version": 3
   },
   "file_extension": ".py",
   "mimetype": "text/x-python",
   "name": "python",
   "nbconvert_exporter": "python",
   "pygments_lexer": "ipython3",
   "version": "3.10.9"
  },
  "orig_nbformat": 4
 },
 "nbformat": 4,
 "nbformat_minor": 2
}
