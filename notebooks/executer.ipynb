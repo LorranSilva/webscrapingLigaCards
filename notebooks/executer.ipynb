{
 "cells": [
  {
   "cell_type": "code",
   "execution_count": 1,
   "metadata": {},
   "outputs": [
    {
     "name": "stdout",
     "output_type": "stream",
     "text": [
      "Comando 'scrapy crawl ligamagic -O datasets/resultmtg.json' executado com sucesso!\n",
      "Comando 'scrapy crawl ligapoke -O datasets/resultpoke.json' executado com sucesso!\n",
      "Comando 'scrapy crawl ligaygo -O datasets/resultygo.json' executado com sucesso!\n"
     ]
    }
   ],
   "source": [
    "import os\n",
    "import subprocess\n",
    "\n",
    "def execute_commands(comando):\n",
    "    retorno = subprocess.run(comando, stdout=subprocess.PIPE, stderr=subprocess.PIPE, shell=True)\n",
    "\n",
    "    if retorno.returncode == 0:\n",
    "        print(f\"Comando '{comando}' executado com sucesso!\")\n",
    "    else:\n",
    "        print(f\"Erro na execução de: {comando}\")\n",
    "        print(retorno.stderr.decode())\n",
    "\n",
    "# acessar diretorio do projeto\n",
    "os.chdir(\"..\\scrapcards\")\n",
    "\n",
    "# comandos para executar respectivos spiders\n",
    "comandos = [\"scrapy crawl ligamagic -O datasets/resultmtg.json\", \"scrapy crawl ligapoke -O datasets/resultpoke.json\", \"scrapy crawl ligaygo -O datasets/resultygo.json\"]\n",
    "\n",
    "for comando in comandos:\n",
    "    execute_commands(comando)\n"
   ]
  }
 ],
 "metadata": {
  "kernelspec": {
   "display_name": "ligaCard",
   "language": "python",
   "name": "python3"
  },
  "language_info": {
   "codemirror_mode": {
    "name": "ipython",
    "version": 3
   },
   "file_extension": ".py",
   "mimetype": "text/x-python",
   "name": "python",
   "nbconvert_exporter": "python",
   "pygments_lexer": "ipython3",
   "version": "3.10.10"
  },
  "orig_nbformat": 4
 },
 "nbformat": 4,
 "nbformat_minor": 2
}
