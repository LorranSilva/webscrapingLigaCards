{
 "cells": [
  {
   "attachments": {},
   "cell_type": "markdown",
   "metadata": {},
   "source": [
    "Processo de Scrapy"
   ]
  },
  {
   "cell_type": "code",
   "execution_count": null,
   "metadata": {},
   "outputs": [],
   "source": [
    "import os\n",
    "import subprocess\n",
    "\n",
    "def execute_commands(comando):\n",
    "    retorno = subprocess.run(comando, stdout=subprocess.PIPE, stderr=subprocess.PIPE, shell=True)\n",
    "\n",
    "    if retorno.returncode == 0:\n",
    "        print(f\"Comando '{comando}' executado com sucesso!\")\n",
    "    else:\n",
    "        print(f\"Erro na execução de: {comando}\")\n",
    "        print(retorno.stderr.decode())\n",
    "\n",
    "# acessar diretorio do projeto\n",
    "os.chdir(\"..\\scrapcards\")\n",
    "\n",
    "# comandos para executar respectivos spiders\n",
    "comandos = [\"scrapy crawl ligamagic -O datasets/mtg.json\", \"scrapy crawl ligapoke -O datasets/ptcg.json\", \"scrapy crawl ligaygo -O datasets/ygo.json\"]\n",
    "\n",
    "for comando in comandos:\n",
    "    execute_commands(comando)\n"
   ]
  },
  {
   "attachments": {},
   "cell_type": "markdown",
   "metadata": {},
   "source": [
    "O banco de dados foi preparado de maneira que a coluna \"acronym\" da tabela \"game\"corresponda\n",
    "ao nome do arquivo JSON sem a extenção, o que permite a busca correta pelo ID do jogo. Uma \n",
    "ez que temos o ID, é iniciado o processo de inserção de coleções e suas cartas."
   ]
  },
  {
   "cell_type": "code",
   "execution_count": 2,
   "metadata": {},
   "outputs": [],
   "source": [
    "import psycopg2\n",
    "import json\n",
    "import os\n",
    "\n",
    "# Variáveis banco de dados\n",
    "host = \"localhost\"\n",
    "database = \"ligaCards\"\n",
    "user = \"postgres\"\n",
    "password = \"admin\"\n",
    "conn = psycopg2.connect(host=host, database=database, user=user, password=password)\n",
    "cursor = conn.cursor()\n",
    "\n",
    "# Buscando os nomes dos arquivos json\n",
    "folder = '..\\scrapcards\\datasets'\n",
    "files_json = [arquivo for arquivo in os.listdir(folder) if arquivo.endswith('.json')]\n",
    "\n",
    "# Iterando sobre os arquivos JSON\n",
    "for file in files_json:\n",
    "    path_json = os.path.join(folder, file)\n",
    "    game_acronym = os.path.splitext(file)[0]\n",
    "    with open(path_json, encoding='utf-8') as file:\n",
    "        data = json.load(file)\n",
    "\n",
    "    cursor.execute(f\"SELECT id FROM game WHERE LOWER(acronym) LIKE '%{game_acronym}%'\")\n",
    "    game_id = cursor.fetchone()\n",
    "\n",
    "    for iten in data:\n",
    "        try:\n",
    "            query = \"INSERT INTO collection (game_id, name, acronym, cards_quantity, lowest_price, average_price, highest_price) VALUES (%s, %s, %s, %s, %s, %s, %s)\"\n",
    "            values = (game_id[0], iten['name'].replace(\"'\", \"\"), iten['acronym'], iten['cards_quantity'], iten['lowest_price'], iten['avarege_price'], iten['highest_price'])\n",
    "            cursor.execute(query, values)\n",
    "            conn.commit()\n",
    "        except Exception as e:\n",
    "            print(e)\n",
    "            print(values)\n",
    "            break\n",
    "\n",
    "        cursor.execute(f\"\"\"SELECT id FROM collection WHERE name = '{iten['name'].replace(\"'\", \"\")}'\"\"\")\n",
    "        collection_id = cursor.fetchone()\n",
    "\n",
    "        for card in iten['cards']:\n",
    "            try:\n",
    "                query = \"INSERT INTO card(collection_id, lowest_price, highest_price, name_en, name_pt) VALUES (%s, %s, %s, %s, %s)\"\n",
    "                values = (collection_id[0], card['precoMenor'], card['precoMaior'], card['nEN'].replace(\"'\", \"\"), card['nPT'].replace(\"'\", \"\"))\n",
    "                cursor.execute(query, values)\n",
    "                conn.commit()\n",
    "            except Exception as e:\n",
    "                print(e)\n",
    "                print(values)\n",
    "                break\n",
    "            \n",
    "\n",
    "cursor.close()\n",
    "conn.close()\n"
   ]
  }
 ],
 "metadata": {
  "kernelspec": {
   "display_name": "ligaCard",
   "language": "python",
   "name": "python3"
  },
  "language_info": {
   "codemirror_mode": {
    "name": "ipython",
    "version": 3
   },
   "file_extension": ".py",
   "mimetype": "text/x-python",
   "name": "python",
   "nbconvert_exporter": "python",
   "pygments_lexer": "ipython3",
   "version": "3.10.10"
  },
  "orig_nbformat": 4
 },
 "nbformat": 4,
 "nbformat_minor": 2
}
