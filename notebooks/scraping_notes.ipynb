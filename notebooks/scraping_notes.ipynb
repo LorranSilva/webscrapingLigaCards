{
 "cells": [
  {
   "attachments": {},
   "cell_type": "markdown",
   "metadata": {},
   "source": [
    "<b>COMO FAZER O WEB SCRAPING COM SCRAPY?</b>\n",
    "<br>\n",
    "<li>Encontre a URL que você deseja raspar;</li>\n",
    "<li>Inspecione a página:</li>\n",
    "<ul>\n",
    "<li>Verifique se a página é gerada por JS: https://www.youtube.com/watch?v=Pu3gmdWsLYc</li>\n",
    "</ul>\n",
    "<li>Encontre os dados que deseja extrair;</li>\n",
    "<li>Escreva o código;</li>\n",
    "<li>Execute o código e extraia os dados;</li>\n",
    "<li>Armazene os dados no formato necessário.</li>"
   ]
  },
  {
   "attachments": {},
   "cell_type": "markdown",
   "metadata": {},
   "source": [
    "<b>Iniciando um projeto com Scrapy:</b><br>\n",
    "<li>Criando o projeto: scrapy startproject nome_do_projeto;</li>\n",
    "<li>Acessar diretório do projeto: cd nome_do_projeto;</li>\n",
    "<li>Criar o arquivo spider: scrapy genspider script_name example.com;</li>\n",
    "Spiders are classes that you define and that Scrapy uses to scrape information from a website\n",
    "<li>Acessar ambiente de scraping shell: scrapy shell;</li>\n",
    "<li>Tentar fazer conexao com o site: fetch('example.com');</li>\n",
    "<li>Teste o resultado de sua busca: response.css('class').get();</li>\n",
    "<li>Na função parse, dentro do projeto, trabalhe como desejar na função:</li>\n",
    "<li>Realize o crawl: scrapy crawl nomeprojeto;</li>\n",
    "<li>Salvando os resultados em um arquivo:</li>\n",
    "Com -o o arquivo é sempre reescrito. Com -O o arquivo é sobreescrito.\n",
    "<li>scrapy crawl nomeprojeto -O result.json</li>\n",
    "O formato de arquivo é a sua escolha. Alfuns exemplos:\n",
    "<li>JSON</li>\n",
    "<li>CSV</li>"
   ]
  },
  {
   "attachments": {},
   "cell_type": "markdown",
   "metadata": {},
   "source": [
    "<b>ERROS ENCONTRADOS:</b>\n",
    "<li>RuntimeWarning: coroutine 'SpiderMiddlewareManager.scrape_response.<locals>.process_callback_output' was never awaited\n",
    "  current.result = callback(  # type: ignore[misc]</li>\n",
    "A solução foi comentar a seguinte linha em settings.py:<br>\n",
    "# TWISTED_REACTOR = 'twisted.internet.asyncioreactor.AsyncioSelectorReactor'"
   ]
  },
  {
   "attachments": {},
   "cell_type": "markdown",
   "metadata": {},
   "source": [
    "<b>ACONTECIMENTOS INESPERADOS:</b><br>\n",
    "Alguns dados da página estão vindo de modo dinÂmico é necessário outra abordagem.<br>\n",
    "O passo um, envolve analisar o DOM. E para isto baixamos o conteúdo da página com o comando fetch:<br>\n",
    "scrapy fetch --nolog \"https://www.ligapokemon.com.br/?view=cards/search&card=edid=274%20ed=PGO\" > response.html<br>\n",
    "<br>\n",
    "<br>\n",
    "<b>CARACTERES NO JSON QUE NÃO ESTAVAM EM UTF-8</b><br>\n",
    "Alguns carácteres salvos no arquivo json estavam encodados. A solução foi adicionar está\n",
    "configuração no setup.py.<br>\n",
    "FEED = 'json'\n",
    "FEED_EXPORT_ENCODING = 'utf-8'"
   ]
  },
  {
   "attachments": {},
   "cell_type": "markdown",
   "metadata": {},
   "source": [
    "https://www.youtube.com/watch?v=3DoEGHQA5Eg<br>\n",
    "docker pull scrapinghub/splash<br>\n",
    "docker run -it -p 8050:8050 --rm docker.io/scrapinghub/splash<br>\n",
    "pip install scrapy-splash"
   ]
  },
  {
   "attachments": {},
   "cell_type": "markdown",
   "metadata": {},
   "source": [
    "<div><ul><li>\"sCor\": \"D\" -&gt; Cor da carta, neste caso, \"D\" provavelmente significa \"Dark\" (escuro).</li><li>\"sSigla\": \"MAMA\" -&gt; Sigla da expansão que a carta faz parte.</li><li>\"precoMenor\": \"674.08\" -&gt; Menor preço de venda encontrado para a carta.</li><li>\"precoMaior\": \"1199.99\" -&gt; Maior preço de venda encontrado para a carta.</li><li>\"id\": 10786 -&gt; Identificador único da carta.</li><li>\"nEN\": \"Red-Eyes Black Dragon\" -&gt; Nome da carta em inglês.</li><li>\"nPT\": \"Dragão Negro de Olhos Vermelhos\" -&gt; Nome da carta em português.</li><li>\"sC\": \"D\" -&gt; Classe da carta, neste caso, \"D\" provavelmente significa \"Dragon\" (dragão).</li><li>\"sT\": null -&gt; Tipo da carta, neste caso, não está definido.</li><li>\"sN\": \"MAMA-EN105\" -&gt; Número da carta na expansão.</li><li>\"dN\": \"11111MAMA0EN105\" -&gt; Número de identificação da carta.</li><li>\"aG\": 5 -&gt; Avaliação de condição da carta, onde 5 é a melhor condição possível.</li><li>\"aF1\": 5 -&gt; Avaliação de frente da carta, onde 5 é a melhor frente possível.</li><li>\"aF2\": 5 -&gt; Avaliação de verso da carta, onde 5 é o melhor verso possível.</li><li>\"aF3\": 5 -&gt; Avaliação de borda da carta, onde 5 é a melhor borda possível.</li><li>\"aT\": 0 -&gt; Avaliação de textura da carta, onde 0 é a pior textura possível.</li><li>\"pF\": 0 -&gt; Avaliação de impressão da carta, onde 0 é a pior impressão possível.</li><li>\"p1a\": 674.08 -&gt; Preço de venda da carta na melhor condição.</li><li>\"p1b\": 861.74 -&gt; Preço de venda da carta na condição média.</li><li>\"p1c\": 1199.99 -&gt; Preço de venda da carta na pior condição.</li><li>\"dt\": \"2022-11-04 15:25:03\" -&gt; Data e hora da última atualização de preço da carta.</li><li>\"iCO\": 6 -&gt; Identificador único da coleção que a carta faz parte.</li><li>\"iR\": 36 -&gt; Identificador único do raridade da carta.</li><li>\"idE\": null -&gt; Identificador único do evento que a carta faz parte, neste caso não está definido.</li><li>\"iCMC\": null -&gt; Custo de mana convertido da carta, neste caso, não está definido.</li><li>\"iT\": null -&gt; Tipo de mana da carta, neste caso, não está definido.</li><li>\"sA\": \"\" -&gt; Atributos adicionais da carta, neste caso, não está definido.</li><li>\"sP\": \"/arquivos/in/yugioh_bkp/cd/1030/10786.jpg\" -&gt; Caminho da imagem da carta.</li></ul></div>"
   ]
  }
 ],
 "metadata": {
  "kernelspec": {
   "display_name": "Python 3",
   "language": "python",
   "name": "python3"
  },
  "language_info": {
   "name": "python",
   "version": "3.10.9"
  },
  "orig_nbformat": 4,
  "vscode": {
   "interpreter": {
    "hash": "369f2c481f4da34e4445cda3fffd2e751bd1c4d706f27375911949ba6bb62e1c"
   }
  }
 },
 "nbformat": 4,
 "nbformat_minor": 2
}
