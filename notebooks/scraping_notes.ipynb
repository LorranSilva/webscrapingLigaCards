{
 "cells": [
  {
   "attachments": {},
   "cell_type": "markdown",
   "metadata": {},
   "source": [
    "https://www.youtube.com/watch?v=3DoEGHQA5Eg<br>\n",
    "docker pull scrapinghub/splash<br>\n",
    "docker run -it -p 8050:8050 --rm docker.io/scrapinghub/splash<br>\n",
    "pip install scrapy-splash"
   ]
  },
  {
   "attachments": {},
   "cell_type": "markdown",
   "metadata": {},
   "source": [
    "<div><ul><li>\"sCor\": \"D\" -&gt; Cor da carta, neste caso, \"D\" provavelmente significa \"Dark\" (escuro).</li><li>\"sSigla\": \"MAMA\" -&gt; Sigla da expansão que a carta faz parte.</li><li>\"precoMenor\": \"674.08\" -&gt; Menor preço de venda encontrado para a carta.</li><li>\"precoMaior\": \"1199.99\" -&gt; Maior preço de venda encontrado para a carta.</li><li>\"id\": 10786 -&gt; Identificador único da carta.</li><li>\"nEN\": \"Red-Eyes Black Dragon\" -&gt; Nome da carta em inglês.</li><li>\"nPT\": \"Dragão Negro de Olhos Vermelhos\" -&gt; Nome da carta em português.</li><li>\"sC\": \"D\" -&gt; Classe da carta, neste caso, \"D\" provavelmente significa \"Dragon\" (dragão).</li><li>\"sT\": null -&gt; Tipo da carta, neste caso, não está definido.</li><li>\"sN\": \"MAMA-EN105\" -&gt; Número da carta na expansão.</li><li>\"dN\": \"11111MAMA0EN105\" -&gt; Número de identificação da carta.</li><li>\"aG\": 5 -&gt; Avaliação de condição da carta, onde 5 é a melhor condição possível.</li><li>\"aF1\": 5 -&gt; Avaliação de frente da carta, onde 5 é a melhor frente possível.</li><li>\"aF2\": 5 -&gt; Avaliação de verso da carta, onde 5 é o melhor verso possível.</li><li>\"aF3\": 5 -&gt; Avaliação de borda da carta, onde 5 é a melhor borda possível.</li><li>\"aT\": 0 -&gt; Avaliação de textura da carta, onde 0 é a pior textura possível.</li><li>\"pF\": 0 -&gt; Avaliação de impressão da carta, onde 0 é a pior impressão possível.</li><li>\"p1a\": 674.08 -&gt; Preço de venda da carta na melhor condição.</li><li>\"p1b\": 861.74 -&gt; Preço de venda da carta na condição média.</li><li>\"p1c\": 1199.99 -&gt; Preço de venda da carta na pior condição.</li><li>\"dt\": \"2022-11-04 15:25:03\" -&gt; Data e hora da última atualização de preço da carta.</li><li>\"iCO\": 6 -&gt; Identificador único da coleção que a carta faz parte.</li><li>\"iR\": 36 -&gt; Identificador único do raridade da carta.</li><li>\"idE\": null -&gt; Identificador único do evento que a carta faz parte, neste caso não está definido.</li><li>\"iCMC\": null -&gt; Custo de mana convertido da carta, neste caso, não está definido.</li><li>\"iT\": null -&gt; Tipo de mana da carta, neste caso, não está definido.</li><li>\"sA\": \"\" -&gt; Atributos adicionais da carta, neste caso, não está definido.</li><li>\"sP\": \"/arquivos/in/yugioh_bkp/cd/1030/10786.jpg\" -&gt; Caminho da imagem da carta.</li></ul></div>"
   ]
  }
 ],
 "metadata": {
  "kernelspec": {
   "display_name": "Python 3",
   "language": "python",
   "name": "python3"
  },
  "language_info": {
   "name": "python",
   "version": "3.10.9"
  },
  "orig_nbformat": 4,
  "vscode": {
   "interpreter": {
    "hash": "369f2c481f4da34e4445cda3fffd2e751bd1c4d706f27375911949ba6bb62e1c"
   }
  }
 },
 "nbformat": 4,
 "nbformat_minor": 2
}
